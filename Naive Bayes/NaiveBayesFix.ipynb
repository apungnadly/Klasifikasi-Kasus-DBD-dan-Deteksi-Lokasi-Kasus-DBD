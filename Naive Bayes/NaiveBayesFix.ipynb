{
 "cells": [
  {
   "cell_type": "code",
   "execution_count": 2,
   "metadata": {},
   "outputs": [],
   "source": [
    "import matplotlib.pyplot as plt\n",
    "import pandas as pd\n",
    "import numpy as np\n",
    "import string\n",
    "import re\n",
    "import seaborn as sns\n",
    "%matplotlib inline"
   ]
  },
  {
   "cell_type": "code",
   "execution_count": 3,
   "metadata": {
    "scrolled": true
   },
   "outputs": [
    {
     "data": {
      "text/plain": [
       "Bukan Kasus    536\n",
       "Kasus          394\n",
       "Name: Label, dtype: int64"
      ]
     },
     "execution_count": 3,
     "metadata": {},
     "output_type": "execute_result"
    }
   ],
   "source": [
    "df = pd.read_excel ('full.xlsx')\n",
    "df.Label.value_counts()"
   ]
  },
  {
   "cell_type": "code",
   "execution_count": 4,
   "metadata": {
    "scrolled": true
   },
   "outputs": [
    {
     "data": {
      "text/plain": [
       "<matplotlib.axes._subplots.AxesSubplot at 0x251ef885e20>"
      ]
     },
     "execution_count": 4,
     "metadata": {},
     "output_type": "execute_result"
    },
    {
     "data": {
      "image/png": "[encoded data removed]",
      "text/plain": [
       "<Figure size 432x288 with 1 Axes>"
      ]
     },
     "metadata": {
      "needs_background": "light"
     },
     "output_type": "display_data"
    }
   ],
   "source": [
    "df['Label'].value_counts().plot(kind= 'bar')"
   ]
  },
  {
   "cell_type": "code",
   "execution_count": 5,
   "metadata": {
    "scrolled": false
   },
   "outputs": [],
   "source": [
    "def ProTweets(text):\n",
    "    text = text.lower()\n",
    "    text = re.sub(r\"(?:\\@|https?\\://)\\S+\", \"\", text)\n",
    "    text = \"\".join([char for char in text if char not in string.punctuation])\n",
    "    text = re.sub('http\\S+', '', text)\n",
    "    return text\n",
    "\n",
    "df['Tweet'] = df['Tweet'].apply(lambda x: ProTweets(x))"
   ]
  },
  {
   "cell_type": "code",
   "execution_count": 6,
   "metadata": {},
   "outputs": [],
   "source": [
    "from sklearn.model_selection import train_test_split\n",
    "\n",
    "X_train, X_valid, y_train, y_valid = train_test_split(df['Tweet'], df['Label'],test_size=0.25, random_state=10)"
   ]
  },
  {
   "cell_type": "code",
   "execution_count": 7,
   "metadata": {},
   "outputs": [
    {
     "name": "stdout",
     "output_type": "stream",
     "text": [
      "X_train_shape :  (697,)\n",
      "X_valid_shape :  (233,)\n",
      "y_train_shape :  (697,)\n",
      "y_valid_shape :  (233,)\n"
     ]
    }
   ],
   "source": [
    "print(\"X_train_shape : \",X_train.shape)\n",
    "print(\"X_valid_shape : \",X_valid.shape)\n",
    "print(\"y_train_shape : \",y_train.shape)\n",
    "print(\"y_valid_shape : \",y_valid.shape)"
   ]
  },
  {
   "cell_type": "code",
   "execution_count": 8,
   "metadata": {},
   "outputs": [
    {
     "name": "stdout",
     "output_type": "stream",
     "text": [
      "697 Number of tweets has 2109 words\n",
      "233 Number of tweets has 2109 words\n"
     ]
    }
   ],
   "source": [
    "from sklearn.feature_extraction.text import CountVectorizer\n",
    "\n",
    "count_unigram = CountVectorizer(ngram_range=(1,1))\n",
    "count_train_unigram = count_unigram.fit_transform(X_train)\n",
    "count_valid_unigram = count_unigram.transform(X_valid)\n",
    "print('{} Number of tweets has {} words'.format(count_train_unigram.shape[0], count_train_unigram.shape[1]))\n",
    "print('{} Number of tweets has {} words'.format(count_valid_unigram.shape[0], count_valid_unigram.shape[1]))"
   ]
  },
  {
   "cell_type": "code",
   "execution_count": 9,
   "metadata": {},
   "outputs": [
    {
     "name": "stdout",
     "output_type": "stream",
     "text": [
      "697 Number of tweets has 4653 words\n",
      "233 Number of tweets has 4653 words\n"
     ]
    }
   ],
   "source": [
    "from sklearn.feature_extraction.text import CountVectorizer\n",
    "\n",
    "count_bigram = CountVectorizer(ngram_range=(2,2)) \n",
    "count_train_bigram = count_bigram.fit_transform(X_train)\n",
    "count_valid_bigram = count_bigram.transform(X_valid)\n",
    "print('{} Number of tweets has {} words'.format(count_train_bigram.shape[0], count_train_bigram.shape[1]))\n",
    "print('{} Number of tweets has {} words'.format(count_valid_bigram.shape[0], count_valid_bigram.shape[1]))"
   ]
  },
  {
   "cell_type": "code",
   "execution_count": 10,
   "metadata": {},
   "outputs": [
    {
     "data": {
      "text/html": [
       "<div>\n",
       "<style scoped>\n",
       "    .dataframe tbody tr th:only-of-type {\n",
       "        vertical-align: middle;\n",
       "    }\n",
       "\n",
       "    .dataframe tbody tr th {\n",
       "        vertical-align: top;\n",
       "    }\n",
       "\n",
       "    .dataframe thead th {\n",
       "        text-align: right;\n",
       "    }\n",
       "</style>\n",
       "<table border=\"1\" class=\"dataframe\">\n",
       "  <thead>\n",
       "    <tr style=\"text-align: right;\">\n",
       "      <th></th>\n",
       "      <th>01xe2x80xa6</th>\n",
       "      <th>02</th>\n",
       "      <th>021</th>\n",
       "      <th>05</th>\n",
       "      <th>07gatak</th>\n",
       "      <th>0800</th>\n",
       "      <th>0801</th>\n",
       "      <th>0854</th>\n",
       "      <th>091105lbs</th>\n",
       "      <th>091108nns</th>\n",
       "      <th>...</th>\n",
       "      <th>yangxe2x80xa6</th>\n",
       "      <th>yanxe2x80xa6</th>\n",
       "      <th>yayasan</th>\n",
       "      <th>yg</th>\n",
       "      <th>yng</th>\n",
       "      <th>yogya</th>\n",
       "      <th>yogyakarta</th>\n",
       "      <th>yonif</th>\n",
       "      <th>zika</th>\n",
       "      <th>zona</th>\n",
       "    </tr>\n",
       "  </thead>\n",
       "  <tbody>\n",
       "    <tr>\n",
       "      <th>0</th>\n",
       "      <td>0</td>\n",
       "      <td>0</td>\n",
       "      <td>0</td>\n",
       "      <td>0</td>\n",
       "      <td>0</td>\n",
       "      <td>0</td>\n",
       "      <td>0</td>\n",
       "      <td>0</td>\n",
       "      <td>0</td>\n",
       "      <td>0</td>\n",
       "      <td>...</td>\n",
       "      <td>0</td>\n",
       "      <td>0</td>\n",
       "      <td>0</td>\n",
       "      <td>0</td>\n",
       "      <td>0</td>\n",
       "      <td>0</td>\n",
       "      <td>0</td>\n",
       "      <td>0</td>\n",
       "      <td>0</td>\n",
       "      <td>0</td>\n",
       "    </tr>\n",
       "    <tr>\n",
       "      <th>1</th>\n",
       "      <td>0</td>\n",
       "      <td>0</td>\n",
       "      <td>0</td>\n",
       "      <td>0</td>\n",
       "      <td>0</td>\n",
       "      <td>0</td>\n",
       "      <td>0</td>\n",
       "      <td>0</td>\n",
       "      <td>0</td>\n",
       "      <td>0</td>\n",
       "      <td>...</td>\n",
       "      <td>0</td>\n",
       "      <td>0</td>\n",
       "      <td>0</td>\n",
       "      <td>0</td>\n",
       "      <td>0</td>\n",
       "      <td>0</td>\n",
       "      <td>0</td>\n",
       "      <td>0</td>\n",
       "      <td>0</td>\n",
       "      <td>0</td>\n",
       "    </tr>\n",
       "    <tr>\n",
       "      <th>2</th>\n",
       "      <td>0</td>\n",
       "      <td>0</td>\n",
       "      <td>0</td>\n",
       "      <td>0</td>\n",
       "      <td>0</td>\n",
       "      <td>0</td>\n",
       "      <td>0</td>\n",
       "      <td>0</td>\n",
       "      <td>0</td>\n",
       "      <td>0</td>\n",
       "      <td>...</td>\n",
       "      <td>0</td>\n",
       "      <td>0</td>\n",
       "      <td>0</td>\n",
       "      <td>0</td>\n",
       "      <td>0</td>\n",
       "      <td>0</td>\n",
       "      <td>0</td>\n",
       "      <td>0</td>\n",
       "      <td>0</td>\n",
       "      <td>0</td>\n",
       "    </tr>\n",
       "    <tr>\n",
       "      <th>3</th>\n",
       "      <td>0</td>\n",
       "      <td>0</td>\n",
       "      <td>0</td>\n",
       "      <td>0</td>\n",
       "      <td>0</td>\n",
       "      <td>0</td>\n",
       "      <td>0</td>\n",
       "      <td>0</td>\n",
       "      <td>0</td>\n",
       "      <td>0</td>\n",
       "      <td>...</td>\n",
       "      <td>0</td>\n",
       "      <td>0</td>\n",
       "      <td>0</td>\n",
       "      <td>0</td>\n",
       "      <td>0</td>\n",
       "      <td>0</td>\n",
       "      <td>0</td>\n",
       "      <td>0</td>\n",
       "      <td>0</td>\n",
       "      <td>0</td>\n",
       "    </tr>\n",
       "    <tr>\n",
       "      <th>4</th>\n",
       "      <td>0</td>\n",
       "      <td>0</td>\n",
       "      <td>0</td>\n",
       "      <td>0</td>\n",
       "      <td>0</td>\n",
       "      <td>0</td>\n",
       "      <td>0</td>\n",
       "      <td>0</td>\n",
       "      <td>0</td>\n",
       "      <td>0</td>\n",
       "      <td>...</td>\n",
       "      <td>0</td>\n",
       "      <td>0</td>\n",
       "      <td>0</td>\n",
       "      <td>0</td>\n",
       "      <td>0</td>\n",
       "      <td>0</td>\n",
       "      <td>0</td>\n",
       "      <td>0</td>\n",
       "      <td>0</td>\n",
       "      <td>0</td>\n",
       "    </tr>\n",
       "    <tr>\n",
       "      <th>...</th>\n",
       "      <td>...</td>\n",
       "      <td>...</td>\n",
       "      <td>...</td>\n",
       "      <td>...</td>\n",
       "      <td>...</td>\n",
       "      <td>...</td>\n",
       "      <td>...</td>\n",
       "      <td>...</td>\n",
       "      <td>...</td>\n",
       "      <td>...</td>\n",
       "      <td>...</td>\n",
       "      <td>...</td>\n",
       "      <td>...</td>\n",
       "      <td>...</td>\n",
       "      <td>...</td>\n",
       "      <td>...</td>\n",
       "      <td>...</td>\n",
       "      <td>...</td>\n",
       "      <td>...</td>\n",
       "      <td>...</td>\n",
       "      <td>...</td>\n",
       "    </tr>\n",
       "    <tr>\n",
       "      <th>692</th>\n",
       "      <td>0</td>\n",
       "      <td>0</td>\n",
       "      <td>0</td>\n",
       "      <td>0</td>\n",
       "      <td>0</td>\n",
       "      <td>0</td>\n",
       "      <td>0</td>\n",
       "      <td>0</td>\n",
       "      <td>0</td>\n",
       "      <td>0</td>\n",
       "      <td>...</td>\n",
       "      <td>0</td>\n",
       "      <td>0</td>\n",
       "      <td>0</td>\n",
       "      <td>0</td>\n",
       "      <td>0</td>\n",
       "      <td>0</td>\n",
       "      <td>0</td>\n",
       "      <td>0</td>\n",
       "      <td>0</td>\n",
       "      <td>0</td>\n",
       "    </tr>\n",
       "    <tr>\n",
       "      <th>693</th>\n",
       "      <td>1</td>\n",
       "      <td>0</td>\n",
       "      <td>0</td>\n",
       "      <td>0</td>\n",
       "      <td>0</td>\n",
       "      <td>1</td>\n",
       "      <td>0</td>\n",
       "      <td>0</td>\n",
       "      <td>0</td>\n",
       "      <td>0</td>\n",
       "      <td>...</td>\n",
       "      <td>0</td>\n",
       "      <td>0</td>\n",
       "      <td>0</td>\n",
       "      <td>0</td>\n",
       "      <td>0</td>\n",
       "      <td>0</td>\n",
       "      <td>0</td>\n",
       "      <td>0</td>\n",
       "      <td>0</td>\n",
       "      <td>0</td>\n",
       "    </tr>\n",
       "    <tr>\n",
       "      <th>694</th>\n",
       "      <td>0</td>\n",
       "      <td>0</td>\n",
       "      <td>0</td>\n",
       "      <td>0</td>\n",
       "      <td>0</td>\n",
       "      <td>0</td>\n",
       "      <td>0</td>\n",
       "      <td>0</td>\n",
       "      <td>0</td>\n",
       "      <td>0</td>\n",
       "      <td>...</td>\n",
       "      <td>0</td>\n",
       "      <td>0</td>\n",
       "      <td>0</td>\n",
       "      <td>0</td>\n",
       "      <td>0</td>\n",
       "      <td>0</td>\n",
       "      <td>0</td>\n",
       "      <td>0</td>\n",
       "      <td>0</td>\n",
       "      <td>0</td>\n",
       "    </tr>\n",
       "    <tr>\n",
       "      <th>695</th>\n",
       "      <td>0</td>\n",
       "      <td>0</td>\n",
       "      <td>0</td>\n",
       "      <td>0</td>\n",
       "      <td>0</td>\n",
       "      <td>0</td>\n",
       "      <td>0</td>\n",
       "      <td>0</td>\n",
       "      <td>0</td>\n",
       "      <td>0</td>\n",
       "      <td>...</td>\n",
       "      <td>0</td>\n",
       "      <td>0</td>\n",
       "      <td>0</td>\n",
       "      <td>0</td>\n",
       "      <td>0</td>\n",
       "      <td>0</td>\n",
       "      <td>0</td>\n",
       "      <td>0</td>\n",
       "      <td>0</td>\n",
       "      <td>0</td>\n",
       "    </tr>\n",
       "    <tr>\n",
       "      <th>696</th>\n",
       "      <td>0</td>\n",
       "      <td>0</td>\n",
       "      <td>0</td>\n",
       "      <td>0</td>\n",
       "      <td>0</td>\n",
       "      <td>0</td>\n",
       "      <td>0</td>\n",
       "      <td>0</td>\n",
       "      <td>0</td>\n",
       "      <td>0</td>\n",
       "      <td>...</td>\n",
       "      <td>0</td>\n",
       "      <td>0</td>\n",
       "      <td>0</td>\n",
       "      <td>0</td>\n",
       "      <td>0</td>\n",
       "      <td>0</td>\n",
       "      <td>0</td>\n",
       "      <td>0</td>\n",
       "      <td>0</td>\n",
       "      <td>0</td>\n",
       "    </tr>\n",
       "  </tbody>\n",
       "</table>\n",
       "<p>697 rows × 2109 columns</p>\n",
       "</div>"
      ],
      "text/plain": [
       "     01xe2x80xa6  02  021  05  07gatak  0800  0801  0854  091105lbs  \\\n",
       "0              0   0    0   0        0     0     0     0          0   \n",
       "1              0   0    0   0        0     0     0     0          0   \n",
       "2              0   0    0   0        0     0     0     0          0   \n",
       "3              0   0    0   0        0     0     0     0          0   \n",
       "4              0   0    0   0        0     0     0     0          0   \n",
       "..           ...  ..  ...  ..      ...   ...   ...   ...        ...   \n",
       "692            0   0    0   0        0     0     0     0          0   \n",
       "693            1   0    0   0        0     1     0     0          0   \n",
       "694            0   0    0   0        0     0     0     0          0   \n",
       "695            0   0    0   0        0     0     0     0          0   \n",
       "696            0   0    0   0        0     0     0     0          0   \n",
       "\n",
       "     091108nns  ...  yangxe2x80xa6  yanxe2x80xa6  yayasan  yg  yng  yogya  \\\n",
       "0            0  ...              0             0        0   0    0      0   \n",
       "1            0  ...              0             0        0   0    0      0   \n",
       "2            0  ...              0             0        0   0    0      0   \n",
       "3            0  ...              0             0        0   0    0      0   \n",
       "4            0  ...              0             0        0   0    0      0   \n",
       "..         ...  ...            ...           ...      ...  ..  ...    ...   \n",
       "692          0  ...              0             0        0   0    0      0   \n",
       "693          0  ...              0             0        0   0    0      0   \n",
       "694          0  ...              0             0        0   0    0      0   \n",
       "695          0  ...              0             0        0   0    0      0   \n",
       "696          0  ...              0             0        0   0    0      0   \n",
       "\n",
       "     yogyakarta  yonif  zika  zona  \n",
       "0             0      0     0     0  \n",
       "1             0      0     0     0  \n",
       "2             0      0     0     0  \n",
       "3             0      0     0     0  \n",
       "4             0      0     0     0  \n",
       "..          ...    ...   ...   ...  \n",
       "692           0      0     0     0  \n",
       "693           0      0     0     0  \n",
       "694           0      0     0     0  \n",
       "695           0      0     0     0  \n",
       "696           0      0     0     0  \n",
       "\n",
       "[697 rows x 2109 columns]"
      ]
     },
     "execution_count": 10,
     "metadata": {},
     "output_type": "execute_result"
    }
   ],
   "source": [
    "count_df_unigram = pd.DataFrame(count_train_unigram.toarray(), columns=count_unigram.get_feature_names())\n",
    "count_df_unigram"
   ]
  },
  {
   "cell_type": "code",
   "execution_count": 11,
   "metadata": {},
   "outputs": [
    {
     "data": {
      "text/html": [
       "<div>\n",
       "<style scoped>\n",
       "    .dataframe tbody tr th:only-of-type {\n",
       "        vertical-align: middle;\n",
       "    }\n",
       "\n",
       "    .dataframe tbody tr th {\n",
       "        vertical-align: top;\n",
       "    }\n",
       "\n",
       "    .dataframe thead th {\n",
       "        text-align: right;\n",
       "    }\n",
       "</style>\n",
       "<table border=\"1\" class=\"dataframe\">\n",
       "  <thead>\n",
       "    <tr style=\"text-align: right;\">\n",
       "      <th></th>\n",
       "      <th>02 kelurahan</th>\n",
       "      <th>021 51010350</th>\n",
       "      <th>05 banguntapan</th>\n",
       "      <th>07gatak dan</th>\n",
       "      <th>0800 wib</th>\n",
       "      <th>0801 pacitan</th>\n",
       "      <th>0854 beritasonora</th>\n",
       "      <th>091105lbs bekerjasama</th>\n",
       "      <th>091108nns laksanakan</th>\n",
       "      <th>0911nunukan instruksikan</th>\n",
       "      <th>...</th>\n",
       "      <th>yogya capai</th>\n",
       "      <th>yogya hampir</th>\n",
       "      <th>yogya world</th>\n",
       "      <th>yogyakarta melaporkan</th>\n",
       "      <th>yogyakarta mencatat</th>\n",
       "      <th>yogyakarta waspada</th>\n",
       "      <th>yonif 623bwu</th>\n",
       "      <th>zika berikut</th>\n",
       "      <th>zika dengue</th>\n",
       "      <th>zona hijau</th>\n",
       "    </tr>\n",
       "  </thead>\n",
       "  <tbody>\n",
       "    <tr>\n",
       "      <th>0</th>\n",
       "      <td>0</td>\n",
       "      <td>0</td>\n",
       "      <td>0</td>\n",
       "      <td>0</td>\n",
       "      <td>0</td>\n",
       "      <td>0</td>\n",
       "      <td>0</td>\n",
       "      <td>0</td>\n",
       "      <td>0</td>\n",
       "      <td>0</td>\n",
       "      <td>...</td>\n",
       "      <td>0</td>\n",
       "      <td>0</td>\n",
       "      <td>0</td>\n",
       "      <td>0</td>\n",
       "      <td>0</td>\n",
       "      <td>0</td>\n",
       "      <td>0</td>\n",
       "      <td>0</td>\n",
       "      <td>0</td>\n",
       "      <td>0</td>\n",
       "    </tr>\n",
       "    <tr>\n",
       "      <th>1</th>\n",
       "      <td>0</td>\n",
       "      <td>0</td>\n",
       "      <td>0</td>\n",
       "      <td>0</td>\n",
       "      <td>0</td>\n",
       "      <td>0</td>\n",
       "      <td>0</td>\n",
       "      <td>0</td>\n",
       "      <td>0</td>\n",
       "      <td>0</td>\n",
       "      <td>...</td>\n",
       "      <td>0</td>\n",
       "      <td>0</td>\n",
       "      <td>0</td>\n",
       "      <td>0</td>\n",
       "      <td>0</td>\n",
       "      <td>0</td>\n",
       "      <td>0</td>\n",
       "      <td>0</td>\n",
       "      <td>0</td>\n",
       "      <td>0</td>\n",
       "    </tr>\n",
       "    <tr>\n",
       "      <th>2</th>\n",
       "      <td>0</td>\n",
       "      <td>0</td>\n",
       "      <td>0</td>\n",
       "      <td>0</td>\n",
       "      <td>0</td>\n",
       "      <td>0</td>\n",
       "      <td>0</td>\n",
       "      <td>0</td>\n",
       "      <td>0</td>\n",
       "      <td>0</td>\n",
       "      <td>...</td>\n",
       "      <td>0</td>\n",
       "      <td>0</td>\n",
       "      <td>0</td>\n",
       "      <td>0</td>\n",
       "      <td>0</td>\n",
       "      <td>0</td>\n",
       "      <td>0</td>\n",
       "      <td>0</td>\n",
       "      <td>0</td>\n",
       "      <td>0</td>\n",
       "    </tr>\n",
       "    <tr>\n",
       "      <th>3</th>\n",
       "      <td>0</td>\n",
       "      <td>0</td>\n",
       "      <td>0</td>\n",
       "      <td>0</td>\n",
       "      <td>0</td>\n",
       "      <td>0</td>\n",
       "      <td>0</td>\n",
       "      <td>0</td>\n",
       "      <td>0</td>\n",
       "      <td>0</td>\n",
       "      <td>...</td>\n",
       "      <td>0</td>\n",
       "      <td>0</td>\n",
       "      <td>0</td>\n",
       "      <td>0</td>\n",
       "      <td>0</td>\n",
       "      <td>0</td>\n",
       "      <td>0</td>\n",
       "      <td>0</td>\n",
       "      <td>0</td>\n",
       "      <td>0</td>\n",
       "    </tr>\n",
       "    <tr>\n",
       "      <th>4</th>\n",
       "      <td>0</td>\n",
       "      <td>0</td>\n",
       "      <td>0</td>\n",
       "      <td>0</td>\n",
       "      <td>0</td>\n",
       "      <td>0</td>\n",
       "      <td>0</td>\n",
       "      <td>0</td>\n",
       "      <td>0</td>\n",
       "      <td>0</td>\n",
       "      <td>...</td>\n",
       "      <td>0</td>\n",
       "      <td>0</td>\n",
       "      <td>0</td>\n",
       "      <td>0</td>\n",
       "      <td>0</td>\n",
       "      <td>0</td>\n",
       "      <td>0</td>\n",
       "      <td>0</td>\n",
       "      <td>0</td>\n",
       "      <td>0</td>\n",
       "    </tr>\n",
       "    <tr>\n",
       "      <th>...</th>\n",
       "      <td>...</td>\n",
       "      <td>...</td>\n",
       "      <td>...</td>\n",
       "      <td>...</td>\n",
       "      <td>...</td>\n",
       "      <td>...</td>\n",
       "      <td>...</td>\n",
       "      <td>...</td>\n",
       "      <td>...</td>\n",
       "      <td>...</td>\n",
       "      <td>...</td>\n",
       "      <td>...</td>\n",
       "      <td>...</td>\n",
       "      <td>...</td>\n",
       "      <td>...</td>\n",
       "      <td>...</td>\n",
       "      <td>...</td>\n",
       "      <td>...</td>\n",
       "      <td>...</td>\n",
       "      <td>...</td>\n",
       "      <td>...</td>\n",
       "    </tr>\n",
       "    <tr>\n",
       "      <th>692</th>\n",
       "      <td>0</td>\n",
       "      <td>0</td>\n",
       "      <td>0</td>\n",
       "      <td>0</td>\n",
       "      <td>0</td>\n",
       "      <td>0</td>\n",
       "      <td>0</td>\n",
       "      <td>0</td>\n",
       "      <td>0</td>\n",
       "      <td>0</td>\n",
       "      <td>...</td>\n",
       "      <td>0</td>\n",
       "      <td>0</td>\n",
       "      <td>0</td>\n",
       "      <td>0</td>\n",
       "      <td>0</td>\n",
       "      <td>0</td>\n",
       "      <td>0</td>\n",
       "      <td>0</td>\n",
       "      <td>0</td>\n",
       "      <td>0</td>\n",
       "    </tr>\n",
       "    <tr>\n",
       "      <th>693</th>\n",
       "      <td>0</td>\n",
       "      <td>0</td>\n",
       "      <td>0</td>\n",
       "      <td>0</td>\n",
       "      <td>1</td>\n",
       "      <td>0</td>\n",
       "      <td>0</td>\n",
       "      <td>0</td>\n",
       "      <td>0</td>\n",
       "      <td>0</td>\n",
       "      <td>...</td>\n",
       "      <td>0</td>\n",
       "      <td>0</td>\n",
       "      <td>0</td>\n",
       "      <td>0</td>\n",
       "      <td>0</td>\n",
       "      <td>0</td>\n",
       "      <td>0</td>\n",
       "      <td>0</td>\n",
       "      <td>0</td>\n",
       "      <td>0</td>\n",
       "    </tr>\n",
       "    <tr>\n",
       "      <th>694</th>\n",
       "      <td>0</td>\n",
       "      <td>0</td>\n",
       "      <td>0</td>\n",
       "      <td>0</td>\n",
       "      <td>0</td>\n",
       "      <td>0</td>\n",
       "      <td>0</td>\n",
       "      <td>0</td>\n",
       "      <td>0</td>\n",
       "      <td>0</td>\n",
       "      <td>...</td>\n",
       "      <td>0</td>\n",
       "      <td>0</td>\n",
       "      <td>0</td>\n",
       "      <td>0</td>\n",
       "      <td>0</td>\n",
       "      <td>0</td>\n",
       "      <td>0</td>\n",
       "      <td>0</td>\n",
       "      <td>0</td>\n",
       "      <td>0</td>\n",
       "    </tr>\n",
       "    <tr>\n",
       "      <th>695</th>\n",
       "      <td>0</td>\n",
       "      <td>0</td>\n",
       "      <td>0</td>\n",
       "      <td>0</td>\n",
       "      <td>0</td>\n",
       "      <td>0</td>\n",
       "      <td>0</td>\n",
       "      <td>0</td>\n",
       "      <td>0</td>\n",
       "      <td>0</td>\n",
       "      <td>...</td>\n",
       "      <td>0</td>\n",
       "      <td>0</td>\n",
       "      <td>0</td>\n",
       "      <td>0</td>\n",
       "      <td>0</td>\n",
       "      <td>0</td>\n",
       "      <td>0</td>\n",
       "      <td>0</td>\n",
       "      <td>0</td>\n",
       "      <td>0</td>\n",
       "    </tr>\n",
       "    <tr>\n",
       "      <th>696</th>\n",
       "      <td>0</td>\n",
       "      <td>0</td>\n",
       "      <td>0</td>\n",
       "      <td>0</td>\n",
       "      <td>0</td>\n",
       "      <td>0</td>\n",
       "      <td>0</td>\n",
       "      <td>0</td>\n",
       "      <td>0</td>\n",
       "      <td>0</td>\n",
       "      <td>...</td>\n",
       "      <td>0</td>\n",
       "      <td>0</td>\n",
       "      <td>0</td>\n",
       "      <td>0</td>\n",
       "      <td>0</td>\n",
       "      <td>0</td>\n",
       "      <td>0</td>\n",
       "      <td>0</td>\n",
       "      <td>0</td>\n",
       "      <td>0</td>\n",
       "    </tr>\n",
       "  </tbody>\n",
       "</table>\n",
       "<p>697 rows × 4653 columns</p>\n",
       "</div>"
      ],
      "text/plain": [
       "     02 kelurahan  021 51010350  05 banguntapan  07gatak dan  0800 wib  \\\n",
       "0               0             0               0            0         0   \n",
       "1               0             0               0            0         0   \n",
       "2               0             0               0            0         0   \n",
       "3               0             0               0            0         0   \n",
       "4               0             0               0            0         0   \n",
       "..            ...           ...             ...          ...       ...   \n",
       "692             0             0               0            0         0   \n",
       "693             0             0               0            0         1   \n",
       "694             0             0               0            0         0   \n",
       "695             0             0               0            0         0   \n",
       "696             0             0               0            0         0   \n",
       "\n",
       "     0801 pacitan  0854 beritasonora  091105lbs bekerjasama  \\\n",
       "0               0                  0                      0   \n",
       "1               0                  0                      0   \n",
       "2               0                  0                      0   \n",
       "3               0                  0                      0   \n",
       "4               0                  0                      0   \n",
       "..            ...                ...                    ...   \n",
       "692             0                  0                      0   \n",
       "693             0                  0                      0   \n",
       "694             0                  0                      0   \n",
       "695             0                  0                      0   \n",
       "696             0                  0                      0   \n",
       "\n",
       "     091108nns laksanakan  0911nunukan instruksikan  ...  yogya capai  \\\n",
       "0                       0                         0  ...            0   \n",
       "1                       0                         0  ...            0   \n",
       "2                       0                         0  ...            0   \n",
       "3                       0                         0  ...            0   \n",
       "4                       0                         0  ...            0   \n",
       "..                    ...                       ...  ...          ...   \n",
       "692                     0                         0  ...            0   \n",
       "693                     0                         0  ...            0   \n",
       "694                     0                         0  ...            0   \n",
       "695                     0                         0  ...            0   \n",
       "696                     0                         0  ...            0   \n",
       "\n",
       "     yogya hampir  yogya world  yogyakarta melaporkan  yogyakarta mencatat  \\\n",
       "0               0            0                      0                    0   \n",
       "1               0            0                      0                    0   \n",
       "2               0            0                      0                    0   \n",
       "3               0            0                      0                    0   \n",
       "4               0            0                      0                    0   \n",
       "..            ...          ...                    ...                  ...   \n",
       "692             0            0                      0                    0   \n",
       "693             0            0                      0                    0   \n",
       "694             0            0                      0                    0   \n",
       "695             0            0                      0                    0   \n",
       "696             0            0                      0                    0   \n",
       "\n",
       "     yogyakarta waspada  yonif 623bwu  zika berikut  zika dengue  zona hijau  \n",
       "0                     0             0             0            0           0  \n",
       "1                     0             0             0            0           0  \n",
       "2                     0             0             0            0           0  \n",
       "3                     0             0             0            0           0  \n",
       "4                     0             0             0            0           0  \n",
       "..                  ...           ...           ...          ...         ...  \n",
       "692                   0             0             0            0           0  \n",
       "693                   0             0             0            0           0  \n",
       "694                   0             0             0            0           0  \n",
       "695                   0             0             0            0           0  \n",
       "696                   0             0             0            0           0  \n",
       "\n",
       "[697 rows x 4653 columns]"
      ]
     },
     "execution_count": 11,
     "metadata": {},
     "output_type": "execute_result"
    }
   ],
   "source": [
    "count_df_bigram = pd.DataFrame(count_train_bigram.toarray(), columns=count_bigram.get_feature_names())\n",
    "count_df_bigram"
   ]
  },
  {
   "cell_type": "code",
   "execution_count": 12,
   "metadata": {},
   "outputs": [],
   "source": [
    "from sklearn.naive_bayes import BernoulliNB  # Naive Bayes Classifier\n",
    "bnb_unigram = BernoulliNB().fit(count_train_unigram, y_train)\n",
    "bnb_bigram = BernoulliNB().fit(count_train_bigram, y_train)"
   ]
  },
  {
   "cell_type": "code",
   "execution_count": 13,
   "metadata": {},
   "outputs": [],
   "source": [
    "valid_unigram = bnb_unigram.predict(count_valid_unigram)\n",
    "valid_bigram = bnb_bigram.predict(count_valid_bigram)"
   ]
  },
  {
   "cell_type": "code",
   "execution_count": 14,
   "metadata": {
    "scrolled": true
   },
   "outputs": [
    {
     "name": "stdout",
     "output_type": "stream",
     "text": [
      "Besar Accuracy:  0.871244635193133\n"
     ]
    },
    {
     "data": {
      "image/png": "[encoded data removed]",
      "text/plain": [
       "<Figure size 432x288 with 2 Axes>"
      ]
     },
     "metadata": {
      "needs_background": "light"
     },
     "output_type": "display_data"
    }
   ],
   "source": [
    "from sklearn import metrics\n",
    "from sklearn.metrics import accuracy_score\n",
    "from sklearn.metrics import confusion_matrix\n",
    "\n",
    "score_bnb = metrics.accuracy_score(valid_unigram, y_valid)\n",
    "print(\"Besar Accuracy: \",score_bnb)\n",
    "sns.heatmap(confusion_matrix(valid_unigram, y_valid), annot=True, fmt=\".0f\")\n",
    "plt.title('Confusion Matrix Klasifikasi Kasus DBD')\n",
    "plt.xlabel('true label')\n",
    "plt.ylabel('predicted label')\n",
    "plt.show()"
   ]
  },
  {
   "cell_type": "code",
   "execution_count": 15,
   "metadata": {},
   "outputs": [
    {
     "name": "stdout",
     "output_type": "stream",
     "text": [
      "Besar Accuracy:  0.8798283261802575\n"
     ]
    },
    {
     "data": {
      "image/png": "[encoded data removed]",
      "text/plain": [
       "<Figure size 432x288 with 2 Axes>"
      ]
     },
     "metadata": {
      "needs_background": "light"
     },
     "output_type": "display_data"
    }
   ],
   "source": [
    "from sklearn import metrics\n",
    "from sklearn.metrics import accuracy_score\n",
    "from sklearn.metrics import confusion_matrix\n",
    "\n",
    "score_bnb = metrics.accuracy_score(valid_bigram, y_valid)\n",
    "print(\"Besar Accuracy: \",score_bnb)\n",
    "sns.heatmap(confusion_matrix(valid_bigram, y_valid), annot=True, fmt=\".0f\")\n",
    "plt.title('Confusion Matrix Klasifikasi Kasus DBD')\n",
    "plt.xlabel('true label')\n",
    "plt.ylabel('predicted label')\n",
    "plt.show()"
   ]
  },
  {
   "cell_type": "code",
   "execution_count": 16,
   "metadata": {
    "scrolled": true
   },
   "outputs": [
    {
     "name": "stdout",
     "output_type": "stream",
     "text": [
      "              precision    recall  f1-score   support\n",
      "\n",
      " Bukan Kasus       0.82      0.95      0.88       118\n",
      "       Kasus       0.94      0.79      0.86       115\n",
      "\n",
      "    accuracy                           0.87       233\n",
      "   macro avg       0.88      0.87      0.87       233\n",
      "weighted avg       0.88      0.87      0.87       233\n",
      "\n",
      "              precision    recall  f1-score   support\n",
      "\n",
      " Bukan Kasus       0.93      0.88      0.90       144\n",
      "       Kasus       0.81      0.89      0.85        89\n",
      "\n",
      "    accuracy                           0.88       233\n",
      "   macro avg       0.87      0.88      0.87       233\n",
      "weighted avg       0.88      0.88      0.88       233\n",
      "\n"
     ]
    }
   ],
   "source": [
    "from sklearn.metrics import classification_report\n",
    "print(classification_report(valid_unigram, y_valid))\n",
    "print(classification_report(valid_bigram, y_valid))"
   ]
  },
  {
   "cell_type": "code",
   "execution_count": 17,
   "metadata": {},
   "outputs": [
    {
     "data": {
      "text/plain": [
       "Kasus          126\n",
       "Bukan Kasus     60\n",
       "Name: Label, dtype: int64"
      ]
     },
     "execution_count": 17,
     "metadata": {},
     "output_type": "execute_result"
    }
   ],
   "source": [
    "dt = pd.read_excel ('data_test.xlsx')\n",
    "dt.Label.value_counts()"
   ]
  },
  {
   "cell_type": "code",
   "execution_count": 18,
   "metadata": {},
   "outputs": [],
   "source": [
    "dt['Tweet'] = dt['Tweet'].apply(lambda x: ProTweets(x))\n",
    "count_test_unigram = count_unigram.transform(dt['Tweet'])\n",
    "count_test_bigram = count_bigram.transform(dt['Tweet'])"
   ]
  },
  {
   "cell_type": "code",
   "execution_count": 19,
   "metadata": {},
   "outputs": [],
   "source": [
    "testing_unigram = bnb_unigram.predict(count_test_unigram)\n",
    "testing_bigram = bnb_bigram.predict(count_test_bigram)"
   ]
  },
  {
   "cell_type": "code",
   "execution_count": 20,
   "metadata": {
    "scrolled": true
   },
   "outputs": [
    {
     "name": "stdout",
     "output_type": "stream",
     "text": [
      "Accuracy:  0.9354838709677419\n"
     ]
    },
    {
     "data": {
      "image/png": "[encoded data removed]",
      "text/plain": [
       "<Figure size 432x288 with 2 Axes>"
      ]
     },
     "metadata": {
      "needs_background": "light"
     },
     "output_type": "display_data"
    }
   ],
   "source": [
    "score_bnb = metrics.accuracy_score(testing_unigram, dt['Label'])\n",
    "print(\"Accuracy: \",score_bnb)\n",
    "sns.heatmap(confusion_matrix(testing_unigram, dt['Label']), annot=True, fmt=\".0f\")\n",
    "plt.title('Confusion Matrix Klasifikasi Kasus DBD')\n",
    "plt.show()"
   ]
  },
  {
   "cell_type": "code",
   "execution_count": 21,
   "metadata": {},
   "outputs": [
    {
     "name": "stdout",
     "output_type": "stream",
     "text": [
      "Accuracy:  0.9301075268817204\n"
     ]
    },
    {
     "data": {
      "image/png": "[encoded data removed]",
      "text/plain": [
       "<Figure size 432x288 with 2 Axes>"
      ]
     },
     "metadata": {
      "needs_background": "light"
     },
     "output_type": "display_data"
    }
   ],
   "source": [
    "score_bnb = metrics.accuracy_score(testing_bigram, dt['Label'])\n",
    "print(\"Accuracy: \",score_bnb)\n",
    "sns.heatmap(confusion_matrix(testing_bigram, dt['Label']), annot=True, fmt=\".0f\")\n",
    "plt.title('Confusion Matrix Klasifikasi Kasus DBD')\n",
    "plt.show()"
   ]
  },
  {
   "cell_type": "code",
   "execution_count": 22,
   "metadata": {
    "scrolled": true
   },
   "outputs": [
    {
     "name": "stdout",
     "output_type": "stream",
     "text": [
      "              precision    recall  f1-score   support\n",
      "\n",
      " Bukan Kasus       0.94      0.85      0.89        60\n",
      "       Kasus       0.93      0.98      0.95       126\n",
      "\n",
      "    accuracy                           0.94       186\n",
      "   macro avg       0.94      0.91      0.92       186\n",
      "weighted avg       0.94      0.94      0.93       186\n",
      "\n",
      "              precision    recall  f1-score   support\n",
      "\n",
      " Bukan Kasus       0.86      0.93      0.90        60\n",
      "       Kasus       0.97      0.93      0.95       126\n",
      "\n",
      "    accuracy                           0.93       186\n",
      "   macro avg       0.91      0.93      0.92       186\n",
      "weighted avg       0.93      0.93      0.93       186\n",
      "\n"
     ]
    }
   ],
   "source": [
    "from sklearn.metrics import classification_report\n",
    "print(classification_report(dt['Label'], testing_unigram))\n",
    "print(classification_report(dt['Label'], testing_bigram))"
   ]
  },
  {
   "cell_type": "code",
   "execution_count": 23,
   "metadata": {},
   "outputs": [],
   "source": [
    "import pickle\n",
    "\n",
    "f = open('model_unigram.pickle', 'wb')\n",
    "pickle.dump(bnb_unigram, f)\n",
    "f.close()"
   ]
  },
  {
   "cell_type": "code",
   "execution_count": 24,
   "metadata": {},
   "outputs": [],
   "source": [
    "import pickle\n",
    "\n",
    "f = open('model_bigramm.pickle', 'wb')\n",
    "pickle.dump(bnb_bigram, f)\n",
    "f.close()"
   ]
  },
  {
   "cell_type": "code",
   "execution_count": 25,
   "metadata": {},
   "outputs": [],
   "source": [
    "import pickle\n",
    "\n",
    "f = open('model_unigram.pickle', 'rb')\n",
    "classifier = pickle.load(f)\n",
    "f.close()"
   ]
  },
  {
   "cell_type": "code",
   "execution_count": 41,
   "metadata": {},
   "outputs": [],
   "source": [
    "test_text = pd.read_excel('data_test.xlsx')\n",
    "test_text['Tweet'] = test_text['Tweet'].apply(lambda x: ProTweets(x))\n",
    "test_text = count_unigram.transform(test_text['Tweet'])"
   ]
  },
  {
   "cell_type": "code",
   "execution_count": 42,
   "metadata": {
    "scrolled": true
   },
   "outputs": [],
   "source": [
    "test = classifier.predict(test_text)"
   ]
  },
  {
   "cell_type": "code",
   "execution_count": 43,
   "metadata": {},
   "outputs": [
    {
     "data": {
      "text/plain": [
       "array(['Kasus', 'Bukan Kasus', 'Bukan Kasus', 'Bukan Kasus',\n",
       "       'Bukan Kasus', 'Bukan Kasus', 'Bukan Kasus', 'Bukan Kasus',\n",
       "       'Bukan Kasus', 'Bukan Kasus', 'Bukan Kasus', 'Bukan Kasus',\n",
       "       'Bukan Kasus', 'Bukan Kasus', 'Bukan Kasus', 'Kasus',\n",
       "       'Bukan Kasus', 'Bukan Kasus', 'Bukan Kasus', 'Bukan Kasus',\n",
       "       'Bukan Kasus', 'Bukan Kasus', 'Bukan Kasus', 'Bukan Kasus',\n",
       "       'Bukan Kasus', 'Kasus', 'Bukan Kasus', 'Bukan Kasus', 'Kasus',\n",
       "       'Kasus', 'Kasus', 'Bukan Kasus', 'Bukan Kasus', 'Kasus', 'Kasus',\n",
       "       'Kasus', 'Kasus', 'Kasus', 'Kasus', 'Kasus', 'Kasus', 'Kasus',\n",
       "       'Kasus', 'Kasus', 'Kasus', 'Kasus', 'Kasus', 'Kasus', 'Kasus',\n",
       "       'Kasus', 'Kasus', 'Kasus', 'Kasus', 'Kasus', 'Kasus', 'Kasus',\n",
       "       'Kasus', 'Kasus', 'Kasus', 'Kasus', 'Kasus', 'Kasus', 'Kasus',\n",
       "       'Kasus', 'Kasus', 'Kasus', 'Kasus', 'Bukan Kasus', 'Kasus',\n",
       "       'Kasus', 'Kasus', 'Kasus', 'Kasus', 'Kasus', 'Kasus', 'Kasus',\n",
       "       'Kasus', 'Kasus', 'Kasus', 'Kasus', 'Kasus', 'Kasus',\n",
       "       'Bukan Kasus', 'Kasus', 'Bukan Kasus', 'Bukan Kasus',\n",
       "       'Bukan Kasus', 'Bukan Kasus', 'Bukan Kasus', 'Bukan Kasus',\n",
       "       'Kasus', 'Bukan Kasus', 'Bukan Kasus', 'Bukan Kasus', 'Kasus',\n",
       "       'Kasus', 'Kasus', 'Kasus', 'Kasus', 'Kasus', 'Kasus', 'Kasus',\n",
       "       'Kasus', 'Kasus', 'Kasus', 'Kasus', 'Kasus', 'Kasus', 'Kasus',\n",
       "       'Kasus', 'Kasus', 'Kasus', 'Kasus', 'Kasus', 'Kasus', 'Kasus',\n",
       "       'Kasus', 'Kasus', 'Kasus', 'Kasus', 'Bukan Kasus', 'Kasus',\n",
       "       'Kasus', 'Kasus', 'Kasus', 'Kasus', 'Kasus', 'Kasus', 'Kasus',\n",
       "       'Kasus', 'Kasus', 'Kasus', 'Kasus', 'Kasus', 'Kasus', 'Kasus',\n",
       "       'Kasus', 'Kasus', 'Bukan Kasus', 'Bukan Kasus', 'Kasus', 'Kasus',\n",
       "       'Bukan Kasus', 'Bukan Kasus', 'Bukan Kasus', 'Kasus', 'Kasus',\n",
       "       'Bukan Kasus', 'Bukan Kasus', 'Bukan Kasus', 'Kasus', 'Kasus',\n",
       "       'Kasus', 'Kasus', 'Kasus', 'Kasus', 'Kasus', 'Kasus', 'Kasus',\n",
       "       'Kasus', 'Kasus', 'Kasus', 'Kasus', 'Kasus', 'Kasus', 'Kasus',\n",
       "       'Kasus', 'Kasus', 'Kasus', 'Kasus', 'Kasus', 'Kasus', 'Kasus',\n",
       "       'Kasus', 'Kasus', 'Kasus', 'Kasus', 'Bukan Kasus', 'Bukan Kasus',\n",
       "       'Bukan Kasus', 'Bukan Kasus', 'Bukan Kasus', 'Kasus',\n",
       "       'Bukan Kasus', 'Bukan Kasus', 'Kasus'], dtype='<U11')"
      ]
     },
     "execution_count": 43,
     "metadata": {},
     "output_type": "execute_result"
    }
   ],
   "source": [
    "test"
   ]
  },
  {
   "cell_type": "code",
   "execution_count": 44,
   "metadata": {},
   "outputs": [],
   "source": [
    "def predict(text,bnb_unigram,count_unigram,ProTweets):\n",
    "    text = ProTweets(text)\n",
    "    vect_text = count_unigram.transform([text])\n",
    "    out = bnb_unigram.predict(vect_text)\n",
    "    if out == 'Kasus' :\n",
    "        return 'Kasus'\n",
    "    else :\n",
    "        return 'Bukan Kasus'"
   ]
  },
  {
   "cell_type": "code",
   "execution_count": 45,
   "metadata": {},
   "outputs": [
    {
     "data": {
      "text/plain": [
       "'Kasus'"
      ]
     },
     "execution_count": 45,
     "metadata": {},
     "output_type": "execute_result"
    }
   ],
   "source": [
    "test_text = 'kasus dbd meningkat di jakarta'\n",
    "predict(test_text,bnb_unigram,count_unigram,ProTweets)"
   ]
  },
  {
   "cell_type": "code",
   "execution_count": null,
   "metadata": {},
   "outputs": [],
   "source": []
  }
 ],
 "metadata": {
  "kernelspec": {
   "display_name": "Python 3",
   "language": "python",
   "name": "python3"
  },
  "language_info": {
   "codemirror_mode": {
    "name": "ipython",
    "version": 3
   },
   "file_extension": ".py",
   "mimetype": "text/x-python",
   "name": "python",
   "nbconvert_exporter": "python",
   "pygments_lexer": "ipython3",
   "version": "3.8.3"
  }
 },
 "nbformat": 4,
 "nbformat_minor": 4
}
